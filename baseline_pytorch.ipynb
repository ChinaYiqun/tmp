{
  "nbformat": 4,
  "nbformat_minor": 0,
  "metadata": {
    "colab": {
      "name": "baseline-pytorch",
      "provenance": [],
      "collapsed_sections": [],
      "toc_visible": true,
      "machine_shape": "hm",
      "authorship_tag": "ABX9TyPenisxdRcZQ01ZLiiyIAP6",
      "include_colab_link": true
    },
    "kernelspec": {
      "name": "python3",
      "display_name": "Python 3"
    },
    "accelerator": "GPU",
    "widgets": {
      "application/vnd.jupyter.widget-state+json": {
        "3fc9e2c1fb384795942e7ec90be8718a": {
          "model_module": "@jupyter-widgets/controls",
          "model_name": "HBoxModel",
          "state": {
            "_view_name": "HBoxView",
            "_dom_classes": [],
            "_model_name": "HBoxModel",
            "_view_module": "@jupyter-widgets/controls",
            "_model_module_version": "1.5.0",
            "_view_count": null,
            "_view_module_version": "1.5.0",
            "box_style": "",
            "layout": "IPY_MODEL_4ccb46ccb3eb468dbb82662e41005545",
            "_model_module": "@jupyter-widgets/controls",
            "children": [
              "IPY_MODEL_5a14d97df44342ceb685dae94b0fa53e",
              "IPY_MODEL_e3ea9ceb8bd5487fbdf8eaf59bd5835b"
            ]
          }
        },
        "4ccb46ccb3eb468dbb82662e41005545": {
          "model_module": "@jupyter-widgets/base",
          "model_name": "LayoutModel",
          "state": {
            "_view_name": "LayoutView",
            "grid_template_rows": null,
            "right": null,
            "justify_content": null,
            "_view_module": "@jupyter-widgets/base",
            "overflow": null,
            "_model_module_version": "1.2.0",
            "_view_count": null,
            "flex_flow": null,
            "width": null,
            "min_width": null,
            "border": null,
            "align_items": null,
            "bottom": null,
            "_model_module": "@jupyter-widgets/base",
            "top": null,
            "grid_column": null,
            "overflow_y": null,
            "overflow_x": null,
            "grid_auto_flow": null,
            "grid_area": null,
            "grid_template_columns": null,
            "flex": null,
            "_model_name": "LayoutModel",
            "justify_items": null,
            "grid_row": null,
            "max_height": null,
            "align_content": null,
            "visibility": null,
            "align_self": null,
            "height": null,
            "min_height": null,
            "padding": null,
            "grid_auto_rows": null,
            "grid_gap": null,
            "max_width": null,
            "order": null,
            "_view_module_version": "1.2.0",
            "grid_template_areas": null,
            "object_position": null,
            "object_fit": null,
            "grid_auto_columns": null,
            "margin": null,
            "display": null,
            "left": null
          }
        },
        "5a14d97df44342ceb685dae94b0fa53e": {
          "model_module": "@jupyter-widgets/controls",
          "model_name": "FloatProgressModel",
          "state": {
            "_view_name": "ProgressView",
            "style": "IPY_MODEL_d41dbb73addd4cb6a60e813f160c1e00",
            "_dom_classes": [],
            "description": "100%",
            "_model_name": "FloatProgressModel",
            "bar_style": "success",
            "max": 46827520,
            "_view_module": "@jupyter-widgets/controls",
            "_model_module_version": "1.5.0",
            "value": 46827520,
            "_view_count": null,
            "_view_module_version": "1.5.0",
            "orientation": "horizontal",
            "min": 0,
            "description_tooltip": null,
            "_model_module": "@jupyter-widgets/controls",
            "layout": "IPY_MODEL_cc001af431984e80bb5ed1c13fc8eefd"
          }
        },
        "e3ea9ceb8bd5487fbdf8eaf59bd5835b": {
          "model_module": "@jupyter-widgets/controls",
          "model_name": "HTMLModel",
          "state": {
            "_view_name": "HTMLView",
            "style": "IPY_MODEL_3a664d80e8aa4654a0627624b203021d",
            "_dom_classes": [],
            "description": "",
            "_model_name": "HTMLModel",
            "placeholder": "​",
            "_view_module": "@jupyter-widgets/controls",
            "_model_module_version": "1.5.0",
            "value": " 44.7M/44.7M [00:00&lt;00:00, 250MB/s]",
            "_view_count": null,
            "_view_module_version": "1.5.0",
            "description_tooltip": null,
            "_model_module": "@jupyter-widgets/controls",
            "layout": "IPY_MODEL_c231ce15f4734d7880af0e27b353d963"
          }
        },
        "d41dbb73addd4cb6a60e813f160c1e00": {
          "model_module": "@jupyter-widgets/controls",
          "model_name": "ProgressStyleModel",
          "state": {
            "_view_name": "StyleView",
            "_model_name": "ProgressStyleModel",
            "description_width": "initial",
            "_view_module": "@jupyter-widgets/base",
            "_model_module_version": "1.5.0",
            "_view_count": null,
            "_view_module_version": "1.2.0",
            "bar_color": null,
            "_model_module": "@jupyter-widgets/controls"
          }
        },
        "cc001af431984e80bb5ed1c13fc8eefd": {
          "model_module": "@jupyter-widgets/base",
          "model_name": "LayoutModel",
          "state": {
            "_view_name": "LayoutView",
            "grid_template_rows": null,
            "right": null,
            "justify_content": null,
            "_view_module": "@jupyter-widgets/base",
            "overflow": null,
            "_model_module_version": "1.2.0",
            "_view_count": null,
            "flex_flow": null,
            "width": null,
            "min_width": null,
            "border": null,
            "align_items": null,
            "bottom": null,
            "_model_module": "@jupyter-widgets/base",
            "top": null,
            "grid_column": null,
            "overflow_y": null,
            "overflow_x": null,
            "grid_auto_flow": null,
            "grid_area": null,
            "grid_template_columns": null,
            "flex": null,
            "_model_name": "LayoutModel",
            "justify_items": null,
            "grid_row": null,
            "max_height": null,
            "align_content": null,
            "visibility": null,
            "align_self": null,
            "height": null,
            "min_height": null,
            "padding": null,
            "grid_auto_rows": null,
            "grid_gap": null,
            "max_width": null,
            "order": null,
            "_view_module_version": "1.2.0",
            "grid_template_areas": null,
            "object_position": null,
            "object_fit": null,
            "grid_auto_columns": null,
            "margin": null,
            "display": null,
            "left": null
          }
        },
        "3a664d80e8aa4654a0627624b203021d": {
          "model_module": "@jupyter-widgets/controls",
          "model_name": "DescriptionStyleModel",
          "state": {
            "_view_name": "StyleView",
            "_model_name": "DescriptionStyleModel",
            "description_width": "",
            "_view_module": "@jupyter-widgets/base",
            "_model_module_version": "1.5.0",
            "_view_count": null,
            "_view_module_version": "1.2.0",
            "_model_module": "@jupyter-widgets/controls"
          }
        },
        "c231ce15f4734d7880af0e27b353d963": {
          "model_module": "@jupyter-widgets/base",
          "model_name": "LayoutModel",
          "state": {
            "_view_name": "LayoutView",
            "grid_template_rows": null,
            "right": null,
            "justify_content": null,
            "_view_module": "@jupyter-widgets/base",
            "overflow": null,
            "_model_module_version": "1.2.0",
            "_view_count": null,
            "flex_flow": null,
            "width": null,
            "min_width": null,
            "border": null,
            "align_items": null,
            "bottom": null,
            "_model_module": "@jupyter-widgets/base",
            "top": null,
            "grid_column": null,
            "overflow_y": null,
            "overflow_x": null,
            "grid_auto_flow": null,
            "grid_area": null,
            "grid_template_columns": null,
            "flex": null,
            "_model_name": "LayoutModel",
            "justify_items": null,
            "grid_row": null,
            "max_height": null,
            "align_content": null,
            "visibility": null,
            "align_self": null,
            "height": null,
            "min_height": null,
            "padding": null,
            "grid_auto_rows": null,
            "grid_gap": null,
            "max_width": null,
            "order": null,
            "_view_module_version": "1.2.0",
            "grid_template_areas": null,
            "object_position": null,
            "object_fit": null,
            "grid_auto_columns": null,
            "margin": null,
            "display": null,
            "left": null
          }
        }
      }
    }
  },
  "cells": [
    {
      "cell_type": "markdown",
      "metadata": {
        "id": "view-in-github",
        "colab_type": "text"
      },
      "source": [
        "<a href=\"https://colab.research.google.com/github/ChinaYiqun/tmp/blob/main/baseline_pytorch.ipynb\" target=\"_parent\"><img src=\"https://colab.research.google.com/assets/colab-badge.svg\" alt=\"Open In Colab\"/></a>"
      ]
    },
    {
      "cell_type": "markdown",
      "metadata": {
        "id": "7Ev13x2-fqgs"
      },
      "source": [
        "# 安装库"
      ]
    },
    {
      "cell_type": "code",
      "metadata": {
        "id": "jkoZNl6Tc7dw"
      },
      "source": [
        "import tensorflow.compat.v1 as tf\r\n",
        "tf.disable_v2_behavior()\r\n",
        "!wget https://www.robots.ox.ac.uk/~vgg/data/flowers/102/102flowers.tgz\r\n",
        "!wget https://www.robots.ox.ac.uk/~vgg/data/flowers/102/imagelabels.mat \r\n",
        "!tar zxvf 102flowers.tgz -C ./\r\n",
        "import os\r\n",
        "os.environ[\"CUDA_VISIBLE_DEVICES\"] = \"0\"\r\n",
        "import numpy as np\r\n",
        "from scipy.io import loadmat\r\n",
        "data_m= loadmat(\"imagelabels.mat\")\r\n",
        "labels = data_m['labels'].tolist()[0]"
      ],
      "execution_count": null,
      "outputs": []
    },
    {
      "cell_type": "code",
      "metadata": {
        "id": "a3-aQ2KGfuf8"
      },
      "source": [
        "import os\r\n",
        "import torch\r\n",
        "import torch.nn as nn\r\n",
        "import numpy as np\r\n",
        "from torchvision import datasets, transforms, models\r\n",
        "import matplotlib.pyplot as plt\r\n",
        "import copy"
      ],
      "execution_count": null,
      "outputs": []
    },
    {
      "cell_type": "markdown",
      "metadata": {
        "id": "OAq_ZSdN1wQt"
      },
      "source": [
        "# 参数"
      ]
    },
    {
      "cell_type": "code",
      "metadata": {
        "id": "iop46AXf1vpc"
      },
      "source": [
        "data_dir = \".\"\r\n",
        "model_name = \"resnet\"\r\n",
        "num_classes = 102\r\n",
        "batch_size = 32\r\n",
        "num_epochs = 8\r\n",
        "input_size = 224\r\n",
        "lr = 1e-3\r\n",
        "momentum = 0.9\r\n",
        "is_fixed = True\r\n",
        "use_pretrained = True\r\n",
        "is_train = True\r\n",
        "is_test = True\r\n",
        "\r\n",
        "device = torch.device(\"cuda\" if torch.cuda.is_available() else \"cpu\")"
      ],
      "execution_count": null,
      "outputs": []
    },
    {
      "cell_type": "markdown",
      "metadata": {
        "id": "9FfD9WvrfO8D"
      },
      "source": [
        "# 创建目录 "
      ]
    },
    {
      "cell_type": "code",
      "metadata": {
        "id": "xTgu4v0TdImL"
      },
      "source": [
        "import shutil\r\n",
        "def mkdir_for_keras(dirname):\r\n",
        "  os.mkdir(dirname)\r\n",
        "  for i in range(1,103):\r\n",
        "    file_name=\"{}_label\".format(i)\r\n",
        "    os.makedirs(dirname + '/' + file_name)\r\n",
        "def move2dir(src,trainfolder,validfoder,labels,split = 0.2):\r\n",
        "  for folderName, subfolders, filenames in os.walk(src):\r\n",
        "    for filename in filenames:\r\n",
        "      if '.jpg' in filename:\r\n",
        "        file_id = int(filename.split('_')[1].split('.')[0]) -1\r\n",
        "        file_class = str(labels[file_id]) + '_label'\r\n",
        "        #print(np.random.random())\r\n",
        "      try:\r\n",
        "        p = np.random.random()\r\n",
        "        #print(p)\r\n",
        "        #print(folderName+ '/'+ filename,validfoder+ '/'+file_class +'/'+ filename)\r\n",
        "        \r\n",
        "        if p < split:\r\n",
        "          # 放入验证集\r\n",
        "          #print(folderName+ '/'+ filename,validfoder+ '/'+file_class +'/'+ filename)\r\n",
        "          shutil.move(folderName+ '/'+ filename,validfoder+ '/'+file_class +'/'+ filename)\r\n",
        "          \r\n",
        "          pass\r\n",
        "        else:\r\n",
        "          # 放入训练集\r\n",
        "          shutil.move(folderName+ '/'+ filename,trainfolder+ '/'+file_class +'/'+ filename)\r\n",
        "          pass\r\n",
        "        \r\n",
        "        pass \r\n",
        "      except:\r\n",
        "        print('io erro')\r\n",
        "        pass\r\n",
        "mkdir_for_keras('train')\r\n",
        "mkdir_for_keras('valid')"
      ],
      "execution_count": null,
      "outputs": []
    },
    {
      "cell_type": "markdown",
      "metadata": {
        "id": "woeaUrxLBwzi"
      },
      "source": [
        "# 图片导入"
      ]
    },
    {
      "cell_type": "code",
      "metadata": {
        "id": "PVMnFEgRdaBK"
      },
      "source": [
        "move2dir('jpg','train','valid',labels)"
      ],
      "execution_count": null,
      "outputs": []
    },
    {
      "cell_type": "code",
      "metadata": {
        "id": "11lRf0dFgBuS"
      },
      "source": [
        ""
      ],
      "execution_count": null,
      "outputs": []
    },
    {
      "cell_type": "code",
      "metadata": {
        "id": "K70Y39f2drj9"
      },
      "source": [
        "def get_datasets(data_dir, input_size, is_train_data):\r\n",
        "    if(is_train_data):\r\n",
        "        images = datasets.ImageFolder(os.path.join(data_dir, \"train\"),\r\n",
        "                                      transforms.Compose([\r\n",
        "                                          transforms.RandomResizedCrop(input_size),\r\n",
        "                                          transforms.RandomHorizontalFlip(),\r\n",
        "                                          transforms.ToTensor()\r\n",
        "                                          ]))\r\n",
        "    else:\r\n",
        "        images = datasets.ImageFolder(os.path.join(data_dir, \"valid\"),\r\n",
        "                                      transforms.Compose([\r\n",
        "                                          transforms.Resize(input_size),\r\n",
        "                                          transforms.CenterCrop(input_size),\r\n",
        "                                          transforms.ToTensor()\r\n",
        "                                          ]))\r\n",
        "    return images\r\n",
        "train_images = get_datasets('.', input_size, is_train_data=True)\r\n",
        "test_images = get_datasets('.', input_size, is_train_data=False)\r\n",
        "\r\n",
        "train_loader = torch.utils.data.DataLoader(train_images, batch_size=batch_size, shuffle=True)\r\n",
        "test_loader = torch.utils.data.DataLoader(test_images, batch_size=batch_size)"
      ],
      "execution_count": null,
      "outputs": []
    },
    {
      "cell_type": "markdown",
      "metadata": {
        "id": "CctamFXF1dNm"
      },
      "source": [
        "# 构建模型"
      ]
    },
    {
      "cell_type": "code",
      "metadata": {
        "id": "dLK90FYs1irr"
      },
      "source": [
        "#验证\r\n",
        "def test(model, test_loader, loss_func):\r\n",
        "    model.eval()\r\n",
        "    loss_val = 0.0\r\n",
        "    corrects = 0.0\r\n",
        "    for images, labels in test_loader:\r\n",
        "        images = images.to(device)\r\n",
        "        labels = labels.to(device)\r\n",
        "        with torch.no_grad():\r\n",
        "            outputs = model(images)\r\n",
        "            loss = loss_func(outputs, labels)\r\n",
        "            \r\n",
        "        _, predicts = torch.max(outputs, 1)\r\n",
        "        \r\n",
        "        loss_val += loss.item() * images.size(0)\r\n",
        "        corrects += torch.sum(predicts.view(-1) == labels.view(-1)).item()\r\n",
        "        \r\n",
        "    test_loss = loss_val / len(test_loader.dataset)\r\n",
        "    test_acc = corrects / len(test_loader.dataset)\r\n",
        "    \r\n",
        "    print(\"Test Loss: {}, Test Acc: {}\".format(test_loss, test_acc))\r\n",
        "        \r\n",
        "    return test_acc\r\n",
        "            \r\n",
        "#训练\r\n",
        "def train(model, train_loader, test_loader, loss_func, optimizer, num_epochs):\r\n",
        "    #初始化最好的验证准确率\r\n",
        "    best_val_acc = 0.0\r\n",
        "    #初始化最好的模型参数，采用deepcopy为防止优化过程中修改到best_model_params\r\n",
        "    best_model_params = copy.deepcopy(model.state_dict())\r\n",
        "    for epoch in range(num_epochs):\r\n",
        "        model.train()\r\n",
        "        loss_val = 0.0\r\n",
        "        corrects = 0.0\r\n",
        "        for images, labels in train_loader:\r\n",
        "            images = images.to(device)\r\n",
        "            labels = labels.to(device)\r\n",
        "            \r\n",
        "            outputs = model(images)\r\n",
        "            loss = loss_func(outputs, labels)\r\n",
        "            \r\n",
        "            #找出输出的最大概率所在的为\r\n",
        "            #二分类中：如果第一个样本输出的最大值出现在第0为，则其预测值为0\r\n",
        "            _, predicts = torch.max(outputs, 1) \r\n",
        "            \r\n",
        "            optimizer.zero_grad()\r\n",
        "            loss.backward()\r\n",
        "            optimizer.step()\r\n",
        "            \r\n",
        "            #loss.item()为一个batch的平均loss的值\r\n",
        "            #images.size(0)为当前batch中有多少样本量\r\n",
        "            #loss.item() * images.size(0)表示一个batch的总loss值\r\n",
        "            loss_val += loss.item() * images.size(0)\r\n",
        "            \r\n",
        "            #view(-1)表示将tensor resize成一个维度为[batch_size]的tensor\r\n",
        "            #计算预测值与标签值相同的数量\r\n",
        "            corrects += torch.sum(predicts.view(-1) == labels.view(-1)).item()\r\n",
        "        \r\n",
        "        #计算每个epoch的平均loss\r\n",
        "        train_loss = loss_val / len(train_loader.dataset)\r\n",
        "        #预测准确的数量除以总的样本量即为准确率\r\n",
        "        train_acc = corrects / len(train_loader.dataset)\r\n",
        "        \r\n",
        "        print(\"Train Loss: {}, Train Acc: {}\".format(train_loss, train_acc))\r\n",
        "        \r\n",
        "        #调用测试\r\n",
        "        test_acc = test(model, test_loader, loss_func)\r\n",
        "        #根据测试准确率跟新最佳模型的参数\r\n",
        "        if(best_val_acc < test_acc):\r\n",
        "            best_val_acc = test_acc\r\n",
        "            best_model_params = copy.deepcopy(model.state_dict())\r\n",
        "    #将模型的最优参数载入模型    \r\n",
        "    model.load_state_dict(best_model_params)\r\n",
        "    return model"
      ],
      "execution_count": null,
      "outputs": []
    },
    {
      "cell_type": "code",
      "metadata": {
        "id": "jY1HOSxP1qJt"
      },
      "source": [
        "def set_parameters_require_grad(model, is_fixed):\r\n",
        "    #默认parameter.requires_grad = True\r\n",
        "    #当采用固定预训练模型参数的方法进行训练时，将预训练模型的参数设置成不需要计算梯度\r\n",
        "    if(is_fixed):\r\n",
        "        for parameter in model.parameters():\r\n",
        "            parameter.requires_grad = False\r\n",
        "            \r\n",
        "def init_model(model_name, num_classes, is_fixed, use_pretrained):\r\n",
        "    if(model_name == 'resnet'):\r\n",
        "        #调用resnet模型，resnet18表示18层的resnet模型，\r\n",
        "        #pretrained=True表示需要加载预训练好的模型参数，pretrained=False表示不加载预训练好的模型参数\r\n",
        "        model = models.resnet18(pretrained=use_pretrained) #调用预训练的resnet18模型\r\n",
        "        #设置参数是否需要计算梯度\r\n",
        "        #is_fixed=True表示模型参数不需要跟新（不需要计算梯度）\r\n",
        "        #is_fixed=False表示模型参数需要fineturn（需要计算梯度）\r\n",
        "        set_parameters_require_grad(model, is_fixed)\r\n",
        "        \r\n",
        "        in_features = model.fc.in_features  #取出全连接层的输入特征维度\r\n",
        "        \r\n",
        "        #重新定义resnet18模型的全连接层,使其满足新的分类任务\r\n",
        "        #此时模型的全连接层默认需要计算梯度\r\n",
        "        model.fc = nn.Linear(in_features, num_classes) \r\n",
        "    \r\n",
        "    return model"
      ],
      "execution_count": null,
      "outputs": []
    },
    {
      "cell_type": "code",
      "metadata": {
        "id": "pytHgsxs16m9"
      },
      "source": [
        "#获取需要更新的模型参数\r\n",
        "def get_require_updated_params(model, is_fixed):\r\n",
        "    if(is_fixed):\r\n",
        "        require_update_params = []\r\n",
        "        for param in model.parameters():\r\n",
        "            if(param.requires_grad):\r\n",
        "                require_update_params.append(param)\r\n",
        "        return require_update_params\r\n",
        "    else:\r\n",
        "        return model.parameters()"
      ],
      "execution_count": null,
      "outputs": []
    },
    {
      "cell_type": "markdown",
      "metadata": {
        "id": "1o2jd5lBBija"
      },
      "source": [
        "# 训练"
      ]
    },
    {
      "cell_type": "code",
      "metadata": {
        "colab": {
          "base_uri": "https://localhost:8080/",
          "height": 409,
          "referenced_widgets": [
            "3fc9e2c1fb384795942e7ec90be8718a",
            "4ccb46ccb3eb468dbb82662e41005545",
            "5a14d97df44342ceb685dae94b0fa53e",
            "e3ea9ceb8bd5487fbdf8eaf59bd5835b",
            "d41dbb73addd4cb6a60e813f160c1e00",
            "cc001af431984e80bb5ed1c13fc8eefd",
            "3a664d80e8aa4654a0627624b203021d",
            "c231ce15f4734d7880af0e27b353d963"
          ]
        },
        "id": "F6J_8kbL2GHN",
        "outputId": "2e2dbd03-9293-4dd4-c847-daba2af7e63c"
      },
      "source": [
        "model = init_model(model_name, num_classes, is_fixed, use_pretrained)\r\n",
        "model = model.to(device)\r\n",
        "\r\n",
        "require_update_params = get_require_updated_params(model, is_fixed)\r\n",
        "\r\n",
        "#将需要跟新的参数放入优化器中进行优化\r\n",
        "optimizer = torch.optim.SGD(require_update_params, lr=lr, momentum=momentum)\r\n",
        "#交叉熵损失函数\r\n",
        "loss_func = nn.CrossEntropyLoss()\r\n",
        "\r\n",
        "if(is_train):\r\n",
        "    model = train(model, train_loader, test_loader, loss_func, optimizer, num_epochs)\r\n",
        "    torch.save(model.state_dict(),\"resnet.pt\")\r\n",
        "if(is_test):\r\n",
        "    model.load_state_dict(torch.load(\"resnet.pt\"))\r\n",
        "    acc = test(model, test_loader, loss_func)\r\n",
        "    print(\"Best Test Acc: {}\".format(acc))"
      ],
      "execution_count": null,
      "outputs": [
        {
          "output_type": "stream",
          "text": [
            "Downloading: \"https://download.pytorch.org/models/resnet18-5c106cde.pth\" to /root/.cache/torch/hub/checkpoints/resnet18-5c106cde.pth\n"
          ],
          "name": "stderr"
        },
        {
          "output_type": "display_data",
          "data": {
            "application/vnd.jupyter.widget-view+json": {
              "model_id": "3fc9e2c1fb384795942e7ec90be8718a",
              "version_minor": 0,
              "version_major": 2
            },
            "text/plain": [
              "HBox(children=(FloatProgress(value=0.0, max=46827520.0), HTML(value='')))"
            ]
          },
          "metadata": {
            "tags": []
          }
        },
        {
          "output_type": "stream",
          "text": [
            "\n",
            "Train Loss: 4.087283309223582, Train Acc: 0.1506371359223301\n",
            "Test Loss: 3.3498097230437107, Test Acc: 0.32999373825923606\n",
            "Train Loss: 3.111571896423414, Train Acc: 0.3972997572815534\n",
            "Test Loss: 2.549846732026723, Test Acc: 0.5178459611772073\n",
            "Train Loss: 2.4942020814395645, Train Acc: 0.5364077669902912\n",
            "Test Loss: 1.9917785343559518, Test Acc: 0.6656230432060113\n",
            "Train Loss: 2.080263861753408, Train Acc: 0.6303094660194175\n",
            "Test Loss: 1.6246712775102017, Test Acc: 0.7426424546023794\n",
            "Train Loss: 1.784295082670971, Train Acc: 0.6876516990291263\n",
            "Test Loss: 1.4076834428885168, Test Acc: 0.775829680651221\n",
            "Train Loss: 1.5711535915587713, Train Acc: 0.7308859223300971\n",
            "Test Loss: 1.1891041381253102, Test Acc: 0.8184095178459612\n",
            "Train Loss: 1.397847002571069, Train Acc: 0.7722997572815534\n",
            "Test Loss: 1.0391341975575772, Test Acc: 0.8340638697557922\n",
            "Train Loss: 1.268215275215871, Train Acc: 0.7933859223300971\n",
            "Test Loss: 0.9576947195647878, Test Acc: 0.8566061365059486\n",
            "Test Loss: 0.9576947195647878, Test Acc: 0.8566061365059486\n",
            "Best Test Acc: 0.8566061365059486\n"
          ],
          "name": "stdout"
        }
      ]
    }
  ]
}